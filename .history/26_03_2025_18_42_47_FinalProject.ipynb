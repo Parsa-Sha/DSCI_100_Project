{
 "cells": [
  {
   "cell_type": "markdown",
   "id": "d12abb45-3b38-496f-beb9-90a36bd4a489",
   "metadata": {},
   "source": [
    "Can we predict whether a player will subscribe to a newsletter based on their Age, gender, played_hours, total session counts/durations?\n",
    "WORK IN PROGRESS\n",
    "\n",
    "Introduction: is this workig\n",
    "\n",
    "#\n",
    "## Introduction: \n",
    "This project aims to use the player.csv dataset from a research group on a MineCraft server to create predictions that can optimise the study’s recruitment efforts.\n",
    "\n",
    "In total, there are 196 observations in the dataset, as well as 7 variables.\n",
    "The variables in the dataset are:\n",
    "- `experience` *(character)* : Player’s self-reported gaming experience. (Beginner, Amateur, Regular, Veteran, Pro)\n",
    "- `subscribe` *(logical)* : Whether the player has subscribed to updates. (TRUE/FALSE)\n",
    "- `hashedEmail` *(character)* : Hashed emails of the players.\n",
    "- `played_hours` *(double)* : Total hours spent on the Minecraft server.\n",
    "- `name` *(character)* : Player's name.\n",
    "- `gender` *(character)* : Self-reported gender of the player. (Male, Female, Non-binary, Prefer not to say, Two-Spirited, Agender, Other)\n",
    "- `Age` *(double)* : Player’s age.\n",
    "\n",
    "The summary statistics in the dataset are:\n",
    "\n",
    "| Data | Mean | Minimum | Maximum|\n",
    "| ------- | ------- | ------- | ------- |\n",
    "| played_hours | 5.845918 | 0 hours | 223.1 hours|\n",
    "| Age | 20.52062 | 8 years | 50 years |\n",
    "\n",
    "Some potential issues include:\n",
    "\n",
    "- **Missing Values** : Some columns have NA values.\n",
    "- **Outliers** : Extreme values could skew analysis.\n",
    "- **Potential Data Bias** : The sample may not fully represent the broader gaming community.\n",
    "- **Small dataset size** : May lead to overfitting due to only having 196 data points."
   ]
  },
  {
   "cell_type": "code",
   "execution_count": null,
   "id": "9075bb22-9c0f-4c2e-a3fa-6d94c69aa5e8",
   "metadata": {},
   "outputs": [],
   "source": []
  }
 ],
 "metadata": {
  "kernelspec": {
   "display_name": "R",
   "language": "R",
   "name": "ir"
  },
  "language_info": {
   "codemirror_mode": "r",
   "file_extension": ".r",
   "mimetype": "text/x-r-source",
   "name": "R",
   "pygments_lexer": "r",
   "version": "4.3.3"
  }
 },
 "nbformat": 4,
 "nbformat_minor": 5
}
