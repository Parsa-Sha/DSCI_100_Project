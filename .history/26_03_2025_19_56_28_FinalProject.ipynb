{
 "cells": [
  {
   "cell_type": "markdown",
   "id": "d12abb45-3b38-496f-beb9-90a36bd4a489",
   "metadata": {},
   "source": [
    "Can we predict whether a player will subscribe to a newsletter based on their Age, gender, played_hours, total session counts/durations?\n",
    "WORK IN PROGRESS\n",
    "\n",
    "Introduction: is this workig\n",
    "\n",
    "#\n",
    "## Introduction: \n",
    "This project centres around research led by Frank Wood from the Computer Science department at the University of British Columbia (UBC). The research team is investigating player behaviour by collecting detailed data from a MineCraft server that they have set up for this purpose. As players navigate through this world, their actions are recorded and used for their research. However, managing this project comes with its challenges, the team is currently looking for a way to target recruitment efforts effectively to ensure that they have enough resources to accommodate the player base. The aim of this project is to use the **player.csv** and the **sessions.csv** dataset provided by the research team to answer the question: \n",
    "\n",
    ">**Can we predict newsletter subscription (subscribe) from demographic (Age, gender) and behavioural variables (played_hours, total session counts/durations), and do these factors vary by experience group?**\n",
    "\n",
    "Understanding whether and how these variables contribute to predicting subscriptions can help the research team optimise their study’s recruitment efforts. \n",
    "\n",
    "\n",
    "In **player.csv**, there are 196 observations in the dataset, as well as 7 variables.\n",
    "\n",
    "The variables in the dataset are:\n",
    "- `experience` *(character)* : Player’s self-reported gaming experience. (Beginner, Amateur, Regular, Veteran, Pro)\n",
    "- `subscribe` *(logical)* : Whether the player has subscribed to updates. (TRUE/FALSE)\n",
    "- `hashedEmail` *(character)* : Hashed emails of the players.\n",
    "- `played_hours` *(double)* : Total hours spent on the Minecraft server.\n",
    "- `name` *(character)* : Player's name.\n",
    "- `gender` *(character)* : Self-reported gender of the player. (Male, Female, Non-binary, Prefer not to say, Two-Spirited, Agender, Other)\n",
    "- `Age` *(double)* : Player’s age.\n",
    "\n",
    "In **sessions.csv**, there are 1535 observations in the dataset and 5 variables.\n",
    "\n",
    "- `hashedEmail` *(character)* : Hashed emails of the players.\n",
    "- `start_time & end_time` *(character)* : Human-readable session start and end timestamps. (dd/mm/yyyy HH:MM)\n",
    "- `original_start_time & original_end_time` *(double)* : Numeric start and end timestamps. (Unix epoch ms)\n",
    "\n",
    "Here is the summary statistics of the datasets:\n",
    "\n",
    "| Data | Mean | Minimum | Maximum|\n",
    "| ------- | ------- | ------- | ------- |\n",
    "| played_hours | 5.845918 | 0 hours | 223.1 hours|\n",
    "| Age | 20.52062 | 8 years | 50 years |\n",
    "\n",
    "By exploring these datasets, we aim to build a classification model that will determine whether specific demographic and behavioural variables are associated with newsletter subscriptions and explore whether these factors differ based on player experience level (e.g., beginners vs. advanced players). Ultimately, the results of this project can produce calculated recommendations to improve player recruitment, engagement, and retention for the UBC research team."
   ]
  },
  {
   "cell_type": "code",
   "execution_count": null,
   "id": "9075bb22-9c0f-4c2e-a3fa-6d94c69aa5e8",
   "metadata": {},
   "outputs": [],
   "source": []
  }
 ],
 "metadata": {
  "kernelspec": {
   "display_name": "R",
   "language": "R",
   "name": "ir"
  },
  "language_info": {
   "codemirror_mode": "r",
   "file_extension": ".r",
   "mimetype": "text/x-r-source",
   "name": "R",
   "pygments_lexer": "r",
   "version": "4.3.3"
  }
 },
 "nbformat": 4,
 "nbformat_minor": 5
}
