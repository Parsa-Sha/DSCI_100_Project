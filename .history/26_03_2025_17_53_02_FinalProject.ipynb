{
 "cells": [
  {
   "cell_type": "code",
   "execution_count": null,
   "id": "3ddaba2a-0b2e-454d-9213-7019d8692dff",
   "metadata": {},
   "outputs": [],
   "source": [
    "library(tidyverse)\n",
    "library(repr)\n",
    "library(tidymodels)\n",
    "options(repr.matrix.max.rows = 6)\n",
    "\n",
    "\n",
    "players <- read_csv(\"https://raw.githubusercontent.com/Parsa-Sha/DSCI_100_Project/refs/heads/main/data/players.csv\") \n",
    "players\n",
    "sessions <- read_csv(\"https://raw.githubusercontent.com/Parsa-Sha/DSCI_100_Project/refs/heads/main/data/sessions.csv\")\n",
    "sessions"
   ]
  },
  {
   "cell_type": "code",
   "execution_count": null,
   "id": "698f62b2-e44f-43de-a94e-bbdc4f6d42c5",
   "metadata": {},
   "outputs": [],
   "source": [
    "library(lubridate)\n",
    "\n",
    "sessions_tidy <- left_join(sessions, players) |>\n",
    "  mutate(\n",
    "    start_time = as.POSIXct(start_time, format = \"%d/%m/%Y %H:%M\"),\n",
    "    end_time   = as.POSIXct(end_time,   format = \"%d/%m/%Y %H:%M\"),\n",
    "\n",
    "    \n",
    "    start_year  = year(start_time),\n",
    "    start_month = month(start_time),\n",
    "    start_day   = day(start_time),\n",
    "    start_hour  = hour(start_time),\n",
    "    start_min   = minute(start_time),\n",
    "\n",
    "    \n",
    "    end_year  = year(end_time),\n",
    "    end_month = month(end_time),\n",
    "    end_day   = day(end_time),\n",
    "    end_hour  = hour(end_time),\n",
    "    end_min   = minute(end_time)\n",
    "  ) |>\n",
    "  select(\n",
    "    hashedEmail,\n",
    "    original_start_time,\n",
    "    original_end_time,\n",
    "    start_day, start_month, start_year, start_hour, start_min,\n",
    "    end_day, end_month, end_year, end_hour, end_min, played_hours, experience, Age, gender\n",
    "  ) |>\n",
    "    group_by(hashedEmail) |>\n",
    "    mutate(number_of_sessions = n())\n",
    "\n",
    "head(sessions_tidy)"
   ]
  },
  {
   "cell_type": "code",
   "execution_count": null,
   "id": "65fe1a62-44e0-4ae8-8b9d-7b1aa2379066",
   "metadata": {},
   "outputs": [],
   "source": [
    "sessions_amateur <- sessions_tidy |>\n",
    "    filter(experience == \"Amateur\")\n",
    "sessions_amateur"
   ]
  },
  {
   "cell_type": "code",
   "execution_count": null,
   "id": "7f8530a8-3975-4653-96a8-9f36de9fecb6",
   "metadata": {},
   "outputs": [],
   "source": []
  }
 ],
 "metadata": {
  "kernelspec": {
   "display_name": "R",
   "language": "R",
   "name": "ir"
  },
  "language_info": {
   "codemirror_mode": "r",
   "file_extension": ".r",
   "mimetype": "text/x-r-source",
   "name": "R",
   "pygments_lexer": "r",
   "version": "4.3.3"
  }
 },
 "nbformat": 4,
 "nbformat_minor": 5
}
