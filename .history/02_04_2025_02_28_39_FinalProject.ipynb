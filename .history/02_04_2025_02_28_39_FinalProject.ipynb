{
 "cells": [
  {
   "cell_type": "code",
   "execution_count": null,
   "id": "3ddaba2a-0b2e-454d-9213-7019d8692dff",
   "metadata": {},
   "outputs": [],
   "source": [
    "library(tidyverse)\n",
    "library(repr)\n",
    "library(tidymodels)\n",
    "options(repr.matrix.max.rows = 6)\n",
    "\n",
    "\n",
    "players <- read_csv(\"https://raw.githubusercontent.com/Parsa-Sha/DSCI_100_Project/refs/heads/main/data/players.csv\") \n",
    "players\n",
    "sessions <- read_csv(\"https://raw.githubusercontent.com/Parsa-Sha/DSCI_100_Project/refs/heads/main/data/sessions.csv\")\n",
    "sessions"
   ]
  },
  {
   "cell_type": "code",
   "execution_count": null,
   "id": "698f62b2-e44f-43de-a94e-bbdc4f6d42c5",
   "metadata": {},
   "outputs": [],
   "source": [
    "library(lubridate)\n",
    "\n",
    "# sessions_tidy <- left_join(sessions, players) |>\n",
    "#   mutate(\n",
    "#     start_time = as.POSIXct(start_time, format = \"%d/%m/%Y %H:%M\"),\n",
    "#     end_time   = as.POSIXct(end_time,   format = \"%d/%m/%Y %H:%M\"),\n",
    "\n",
    "    \n",
    "#     start_year  = year(start_time),\n",
    "#     start_month = month(start_time),\n",
    "#     start_day   = day(start_time),\n",
    "#     start_hour  = hour(start_time),\n",
    "#     start_min   = minute(start_time),\n",
    "\n",
    "    \n",
    "#     end_year  = year(end_time),\n",
    "#     end_month = month(end_time),\n",
    "#     end_day   = day(end_time),\n",
    "#     end_hour  = hour(end_time),\n",
    "#     end_min   = minute(end_time)\n",
    "#   ) |>\n",
    "#   select(\n",
    "#     hashedEmail,\n",
    "#     original_start_time,\n",
    "#     original_end_time,\n",
    "#     start_day, start_month, start_year, start_hour, start_min,\n",
    "#     end_day, end_month, end_year, end_hour, end_min, played_hours, experience, Age, gender\n",
    "#   ) |>\n",
    "#     group_by(hashedEmail) |>\n",
    "#     mutate(number_of_sessions = n())\n",
    "\n",
    "# head(sessions_tidy)\n",
    "# Calculate duration per session\n",
    "sessions_tidy <- sessions %>%\n",
    "  mutate(\n",
    "    start_time = as.POSIXct(start_time, format = \"%d/%m/%Y %H:%M\"),\n",
    "    end_time   = as.POSIXct(end_time, format = \"%d/%m/%Y %H:%M\"),\n",
    "    session_duration = as.numeric(difftime(end_time, start_time, units = \"mins\"))\n",
    "  )\n",
    "\n",
    "# Summarize per user\n",
    "sessions_summary <- sessions_tidy %>%\n",
    "  group_by(hashedEmail) %>%\n",
    "  summarise(\n",
    "    total_session_duration_minutes = sum(session_duration, na.rm = TRUE),\n",
    "    total_sessions = n()\n",
    "  )\n",
    "\n",
    "# Join with player data\n",
    "player_data <- players %>%\n",
    "  left_join(sessions_summary, by = \"hashedEmail\") %>%\n",
    "  mutate(\n",
    "    avg_session_duration = total_session_duration_minutes / total_sessions,\n",
    "    avg_played_per_session = played_hours / total_sessions\n",
    "  )\n",
    "player_data"
   ]
  },
  {
   "cell_type": "code",
   "execution_count": null,
   "id": "65fe1a62-44e0-4ae8-8b9d-7b1aa2379066",
   "metadata": {},
   "outputs": [],
   "source": [
    "\n",
    "# Filter for \"Pro\" experience group\n",
    "pro_data <- player_data %>%\n",
    "  filter(experience == \"Pro\") %>%\n",
    "  mutate(\n",
    "    gender_num = case_when(\n",
    "      gender == \"Male\" ~ 0,\n",
    "      gender == \"Female\" ~ 1,\n",
    "      TRUE ~ NA_real_\n",
    "    )\n",
    "  ) %>%\n",
    "  select(subscribe, Age, avg_session_duration, gender_num) %>%\n",
    "  drop_na()\n",
    "\n",
    "pro_data <- pro_data %>%\n",
    "  mutate(subscribe = as.factor(subscribe))\n",
    "pro_data"
   ]
  },
  {
   "cell_type": "code",
   "execution_count": null,
   "id": "7f8530a8-3975-4653-96a8-9f36de9fecb6",
   "metadata": {},
   "outputs": [],
   "source": [
    "set.seed(123)  # for reproducibility\n",
    "\n",
    "pro_split <- initial_split(pro_data, prop = 0.8, strata = subscribe)\n",
    "pro_train <- training(pro_split)\n",
    "pro_test  <- testing(pro_split)\n"
   ]
  },
  {
   "cell_type": "code",
   "execution_count": null,
   "id": "722c7164-6843-4312-982e-60631065431a",
   "metadata": {},
   "outputs": [],
   "source": [
    "pro_recipe <- recipe(subscribe ~ Age + avg_session_duration + gender_num, data = pro_train) %>%\n",
    "  step_zv(all_predictors()) %>%\n",
    "  step_normalize(all_predictors())\n"
   ]
  },
  {
   "cell_type": "code",
   "execution_count": null,
   "id": "15d6f9f8-d71d-4a14-a2ce-f5b163f5dc50",
   "metadata": {},
   "outputs": [],
   "source": [
    "knn_spec <- nearest_neighbor(neighbors = 5) %>%\n",
    "  set_mode(\"classification\") %>%\n",
    "  set_engine(\"kknn\")\n"
   ]
  },
  {
   "cell_type": "code",
   "execution_count": null,
   "id": "709e109c-5695-4ea8-b391-913402fb6540",
   "metadata": {},
   "outputs": [],
   "source": [
    "knn_workflow <- workflow() %>%\n",
    "  add_model(knn_spec) %>%\n",
    "  add_recipe(pro_recipe)\n",
    "\n",
    "knn_fit <- fit(knn_workflow, data = pro_train)\n"
   ]
  },
  {
   "cell_type": "code",
   "execution_count": null,
   "id": "96ae2d07-0b4a-4140-81f9-3e04c6576854",
   "metadata": {},
   "outputs": [],
   "source": [
    "pro_preds <- predict(knn_fit, pro_test) %>%\n",
    "  bind_cols(pro_test)\n",
    "\n",
    "# Evaluate with basic metrics\n",
    "library(yardstick)\n",
    "metrics(pro_preds, truth = subscribe, estimate = .pred_class)\n"
   ]
  },
  {
   "cell_type": "code",
   "execution_count": null,
   "id": "fae262ff-0de2-4dae-91b3-7010a28600fb",
   "metadata": {},
   "outputs": [],
   "source": [
    "library(ggplot2)\n",
    "\n",
    "ggplot(pro_preds, aes(x = avg_session_duration, y = Age)) +\n",
    "  geom_point(aes(color = .pred_class, shape = subscribe), size = 3, alpha = 0.8) +\n",
    "  scale_color_manual(values = c(\"red\", \"blue\")) +\n",
    "  labs(\n",
    "    title = \"KNN Prediction vs. Actual for Pro Experience Group\",\n",
    "    subtitle = \"Color = Predicted, Shape = Actual (Subscribe)\",\n",
    "    x = \"Average Session Duration (mins)\",\n",
    "    y = \"Age\"\n",
    "  ) +\n",
    "  theme_minimal()\n"
   ]
  },
  {
   "cell_type": "code",
   "execution_count": null,
   "id": "43cfeab2-dbb6-4311-9d06-f638bd5d359b",
   "metadata": {},
   "outputs": [],
   "source": [
    "# Reuse recipe and workflow\n",
    "all_preds <- predict(knn_fit, new_data = pro_data) %>%\n",
    "  bind_cols(pro_data)\n",
    "ggplot(all_preds, aes(x = avg_session_duration, y = Age)) +\n",
    "  geom_point(aes(color = .pred_class, shape = subscribe), size = 3, alpha = 0.8) +\n",
    "  scale_color_manual(values = c(\"red\", \"blue\")) +\n",
    "  labs(\n",
    "    title = \"KNN Predictions on Full Pro Data\",\n",
    "    subtitle = \"Color = Predicted, Shape = Actual (Subscribe)\",\n",
    "    x = \"Average Session Duration (mins)\",\n",
    "    y = \"Age\"\n",
    "  ) +\n",
    "  theme_minimal()\n"
   ]
  },
  {
   "cell_type": "code",
   "execution_count": null,
   "id": "b6d88c98-edce-4834-9e86-6ef670233165",
   "metadata": {},
   "outputs": [],
   "source": []
  }
 ],
 "metadata": {
  "kernelspec": {
   "display_name": "R",
   "language": "R",
   "name": "ir"
  },
  "language_info": {
   "codemirror_mode": "r",
   "file_extension": ".r",
   "mimetype": "text/x-r-source",
   "name": "R",
   "pygments_lexer": "r",
   "version": "4.3.3"
  }
 },
 "nbformat": 4,
 "nbformat_minor": 5
}
