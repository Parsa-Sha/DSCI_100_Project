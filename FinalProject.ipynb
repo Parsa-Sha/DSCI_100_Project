{
 "cells": [
  {
   "cell_type": "code",
   "execution_count": null,
   "id": "090906af-4097-4f41-bb67-d13c1e8712f9",
   "metadata": {},
   "outputs": [],
   "source": [
    "Can we predict whether a player will subscribe to a newsletter based on their Age, gender, played_hours, total session counts/durations?\n",
    "WORK IN PROGRESS\n",
    "\n",
    "Introduction: is this workig\n",
    "\n",
    "\n"
   ]
  },
  {
   "cell_type": "code",
   "execution_count": null,
   "id": "9075bb22-9c0f-4c2e-a3fa-6d94c69aa5e8",
   "metadata": {},
   "outputs": [],
   "source": []
  }
 ],
 "metadata": {
  "kernelspec": {
   "display_name": "R",
   "language": "R",
   "name": "ir"
  },
  "language_info": {
   "codemirror_mode": "r",
   "file_extension": ".r",
   "mimetype": "text/x-r-source",
   "name": "R",
   "pygments_lexer": "r",
   "version": "4.3.3"
  }
 },
 "nbformat": 4,
 "nbformat_minor": 5
}
